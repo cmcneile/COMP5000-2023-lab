{
 "cells": [
  {
   "cell_type": "markdown",
   "id": "8c5f9f59",
   "metadata": {},
   "source": [
    "# Computer Lab Exercises week 5 (SOLUTIONS)"
   ]
  },
  {
   "cell_type": "markdown",
   "id": "b3f4f1ea",
   "metadata": {},
   "source": [
    "* These lab exercises are designed to introduce making jupyter notebooks interactive and using python to create GUIs\n",
    "\n",
    "* These exercises are **not** part of the assessment of the Module.\n",
    "* I will post the solutions roughly 1 week after this file has been uploaded to the DLE.\n",
    "* Please first watch and work through the linkedin learning video https://www.linkedin.com/learning-login/share?account=26140778&forceAccount=false&redirect=https%3A%2F%2Fwww.linkedin.com%2Flearning%2Fpython-gui-development-with-tkinter-2%3Ftrk%3Dshare_ent_url%26shareId%3DuhoH31WaTfWizUsBHk0RcA%253D%253D\n",
    "* Please note that pasting python from pdf can sometimes cause problems. For example quotation marks can sometimes be converted incorrectly, so then running python will cause errors.\n",
    "\n",
    "* See https://sites.google.com/view/pythonforstemstudents/home for a collection\n",
    "of links to information on python.\n",
    "\n",
    "* See the very complete documentation on tkinter at https://tkdocs.com/tutorial/index.html\n"
   ]
  },
  {
   "cell_type": "markdown",
   "id": "1651e2f2",
   "metadata": {},
   "source": [
    "## Question 1\n",
    "\n"
   ]
  },
  {
   "cell_type": "markdown",
   "id": "87b28ff0",
   "metadata": {},
   "source": [
    "##  Question 1a)  Working with Tkinter\n"
   ]
  },
  {
   "cell_type": "markdown",
   "id": "937fdc06",
   "metadata": {},
   "source": [
    "* Modify the script below so that there is an additional column (so the GUI looks like the picture below).\n",
    "\n",
    "\n",
    "![GeomManager](https://github.com/cmcneile/COMP5000-2023-lab/blob/main/geom_manage.png?raw=true)"
   ]
  },
  {
   "cell_type": "code",
   "execution_count": 3,
   "id": "d13a242f",
   "metadata": {},
   "outputs": [],
   "source": [
    "import tkinter as tk\n",
    "master = tk.Tk()\n",
    "tk.Label(master, \n",
    "         text=\"Left top\").grid(row=0, column=0)\n",
    "tk.Label(master, \n",
    "         text=\"Left bottom\").grid(row=1,column=0)\n",
    "tk.mainloop()\n"
   ]
  },
  {
   "cell_type": "code",
   "execution_count": 4,
   "id": "a9e81ae5",
   "metadata": {},
   "outputs": [],
   "source": [
    "# Solution\n",
    "##\n",
    "##  https://www.python-course.eu/tkinter_entry_widgets.php\n",
    "##\n",
    "import tkinter as tk\n",
    "master = tk.Tk()\n",
    "tk.Label(master, \n",
    "         text=\"Left top\").grid(row=0, column=0)\n",
    "tk.Label(master, \n",
    "         text=\"Left bottom\").grid(row=1,column=0)\n",
    "tk.Label(master, \n",
    "         text=\"Right top\").grid(row=0, column=1)\n",
    "tk.Label(master, \n",
    "         text=\"Right bottom\").grid(row=1,column=1)\n",
    "tk.mainloop()\n"
   ]
  },
  {
   "cell_type": "markdown",
   "id": "c7e0824c",
   "metadata": {},
   "source": [
    "##  Questions about pywidgets\n",
    "*  See the documentation https://ipywidgets.readthedocs.io/en/7.6.2/index.html"
   ]
  },
  {
   "cell_type": "markdown",
   "id": "795961ac",
   "metadata": {},
   "source": [
    "##  Question 2a\n",
    "\n",
    "* Modify the code below so the square of the number is calculated\n",
    "* The documentation for interact is at: https://ipywidgets.readthedocs.io/en/stable/examples/Using%20Interact.html"
   ]
  },
  {
   "cell_type": "code",
   "execution_count": 5,
   "id": "7f075d1e",
   "metadata": {},
   "outputs": [],
   "source": [
    "from ipywidgets import interact\n",
    "def f(x):\n",
    "    return x"
   ]
  },
  {
   "cell_type": "code",
   "execution_count": 6,
   "id": "7c07875c",
   "metadata": {},
   "outputs": [
    {
     "data": {
      "application/vnd.jupyter.widget-view+json": {
       "model_id": "4c48dd21082c448c90cb4c70d5b6e126",
       "version_major": 2,
       "version_minor": 0
      },
      "text/plain": [
       "interactive(children=(IntSlider(value=10, description='x', max=30, min=-10), Output()), _dom_classes=('widget-…"
      ]
     },
     "metadata": {},
     "output_type": "display_data"
    }
   ],
   "source": [
    "interact(f, x=10);"
   ]
  },
  {
   "cell_type": "code",
   "execution_count": 7,
   "id": "88cff04a",
   "metadata": {},
   "outputs": [],
   "source": [
    "# Solution\n",
    "def f(x):\n",
    "    return x**2"
   ]
  },
  {
   "cell_type": "code",
   "execution_count": 8,
   "id": "5ce7c319",
   "metadata": {},
   "outputs": [
    {
     "data": {
      "application/vnd.jupyter.widget-view+json": {
       "model_id": "bce5b6e7dfde4bdf8e59a951eb742cfe",
       "version_major": 2,
       "version_minor": 0
      },
      "text/plain": [
       "interactive(children=(IntSlider(value=10, description='x', max=30, min=-10), Output()), _dom_classes=('widget-…"
      ]
     },
     "metadata": {},
     "output_type": "display_data"
    }
   ],
   "source": [
    "interact(f, x=10);"
   ]
  },
  {
   "cell_type": "markdown",
   "id": "834507a2",
   "metadata": {},
   "source": [
    "### Some comments\n",
    "In the lab a couple of people asked about how to get the value back from the function. I don't see an obvious way to do this using interact.\n",
    "\n",
    "* One way is to add a global variable to communicate the value back to the notebook"
   ]
  },
  {
   "cell_type": "code",
   "execution_count": 9,
   "id": "0dd3fbfa",
   "metadata": {},
   "outputs": [],
   "source": [
    "xglobal = 10\n",
    "def f(x):\n",
    "    global xglobal\n",
    "    xglobal = x**2\n",
    "    return xglobal\n"
   ]
  },
  {
   "cell_type": "code",
   "execution_count": 10,
   "id": "6e106cc0",
   "metadata": {},
   "outputs": [
    {
     "data": {
      "application/vnd.jupyter.widget-view+json": {
       "model_id": "bfa609efba2f4a38ba156e06f7bac754",
       "version_major": 2,
       "version_minor": 0
      },
      "text/plain": [
       "interactive(children=(IntSlider(value=10, description='x', max=30, min=-10), Output()), _dom_classes=('widget-…"
      ]
     },
     "metadata": {},
     "output_type": "display_data"
    }
   ],
   "source": [
    "interact(f, x=10);"
   ]
  },
  {
   "cell_type": "code",
   "execution_count": 11,
   "id": "5a8253db",
   "metadata": {},
   "outputs": [
    {
     "name": "stdout",
     "output_type": "stream",
     "text": [
      "The value selected is  25\n"
     ]
    }
   ],
   "source": [
    "print(\"The value selected is \", xglobal)"
   ]
  },
  {
   "cell_type": "markdown",
   "id": "9fca8f53",
   "metadata": {},
   "source": [
    "A better solution is to use the interactive widget"
   ]
  },
  {
   "cell_type": "code",
   "execution_count": 13,
   "id": "b22580d5",
   "metadata": {},
   "outputs": [],
   "source": [
    "from ipywidgets import interactive\n",
    "w = interactive(f, x=10)"
   ]
  },
  {
   "cell_type": "code",
   "execution_count": 14,
   "id": "6deb7822",
   "metadata": {},
   "outputs": [
    {
     "data": {
      "application/vnd.jupyter.widget-view+json": {
       "model_id": "78fd5768ade9400fbc0db368fac47257",
       "version_major": 2,
       "version_minor": 0
      },
      "text/plain": [
       "interactive(children=(IntSlider(value=10, description='x', max=30, min=-10), Output()), _dom_classes=('widget-…"
      ]
     },
     "metadata": {},
     "output_type": "display_data"
    }
   ],
   "source": [
    "display(w)"
   ]
  },
  {
   "cell_type": "code",
   "execution_count": 15,
   "id": "49e31104",
   "metadata": {},
   "outputs": [
    {
     "data": {
      "text/plain": [
       "{'x': 15}"
      ]
     },
     "execution_count": 15,
     "metadata": {},
     "output_type": "execute_result"
    }
   ],
   "source": [
    "w.kwargs"
   ]
  },
  {
   "cell_type": "code",
   "execution_count": 17,
   "id": "0b6a3cf0",
   "metadata": {},
   "outputs": [
    {
     "data": {
      "text/plain": [
       "15"
      ]
     },
     "execution_count": 17,
     "metadata": {},
     "output_type": "execute_result"
    }
   ],
   "source": [
    "w.kwargs['x']"
   ]
  },
  {
   "cell_type": "markdown",
   "id": "41d3281c",
   "metadata": {},
   "source": [
    "##  Question 2b \n",
    "* The code below creates blue and red buttons\n",
    "* Modify the code to add green and black to the option"
   ]
  },
  {
   "cell_type": "code",
   "execution_count": 2,
   "id": "f9b5b893",
   "metadata": {},
   "outputs": [
    {
     "data": {
      "application/vnd.jupyter.widget-view+json": {
       "model_id": "84cf6b735b8046909fc724821c644a9e",
       "version_major": 2,
       "version_minor": 0
      },
      "text/plain": [
       "ToggleButtons(description='Color:', options=('blue', 'red'), value='blue')"
      ]
     },
     "execution_count": 2,
     "metadata": {},
     "output_type": "execute_result"
    }
   ],
   "source": [
    "import ipywidgets as widgets\n",
    "\n",
    "color_buttons = widgets.ToggleButtons(\n",
    "    options=['blue', 'red'],\n",
    "    description='Color:',\n",
    ")\n",
    "color_buttons"
   ]
  },
  {
   "cell_type": "code",
   "execution_count": 3,
   "id": "966609d7",
   "metadata": {},
   "outputs": [
    {
     "name": "stdout",
     "output_type": "stream",
     "text": [
      "color =  blue\n"
     ]
    }
   ],
   "source": [
    "print(\"color = \" , color_buttons.value )"
   ]
  },
  {
   "cell_type": "code",
   "execution_count": 4,
   "id": "4bdc87d6",
   "metadata": {},
   "outputs": [
    {
     "data": {
      "application/vnd.jupyter.widget-view+json": {
       "model_id": "1effa592300545cbb807c8088922d24f",
       "version_major": 2,
       "version_minor": 0
      },
      "text/plain": [
       "ToggleButtons(description='Color:', options=('blue', 'red', 'green', 'black'), value='blue')"
      ]
     },
     "execution_count": 4,
     "metadata": {},
     "output_type": "execute_result"
    }
   ],
   "source": [
    "# The solution is here\n",
    "import ipywidgets as widgets\n",
    "\n",
    "color_buttons = widgets.ToggleButtons(\n",
    "    options=['blue', 'red', 'green', 'black'],\n",
    "    description='Color:',\n",
    ")\n",
    "color_buttons\n",
    "#print(\"color = \" , color_buttons.value )"
   ]
  },
  {
   "cell_type": "markdown",
   "id": "7b66a4cf",
   "metadata": {},
   "source": [
    "##  Question 2c\n",
    "* The code below plots a histogram of some random data\n",
    "* The colour of the data is black. Modify the code so that color can selected interactivly using pywidgets"
   ]
  },
  {
   "cell_type": "code",
   "execution_count": 5,
   "id": "3186d02d",
   "metadata": {},
   "outputs": [
    {
     "data": {
      "image/png": "[encoded data removed]",
      "text/plain": [
       "<Figure size 640x480 with 1 Axes>"
      ]
     },
     "metadata": {},
     "output_type": "display_data"
    }
   ],
   "source": [
    "import matplotlib.pyplot as plt\n",
    "import numpy as np\n",
    "# make data\n",
    "np.random.seed(1)\n",
    "x = 4 + np.random.normal(0, 1.5, 200)\n",
    "\n",
    "plt.hist(x, bins=8, linewidth=0.5, color=\"black\")\n",
    "plt.show()"
   ]
  },
  {
   "cell_type": "code",
   "execution_count": 11,
   "id": "057ca626",
   "metadata": {},
   "outputs": [
    {
     "data": {
      "application/vnd.jupyter.widget-view+json": {
       "model_id": "301c61b4e31c43f5b0b1115a48132c2a",
       "version_major": 2,
       "version_minor": 0
      },
      "text/plain": [
       "ToggleButtons(description='Color:', options=('blue', 'red', 'green', 'black'), value='blue')"
      ]
     },
     "execution_count": 11,
     "metadata": {},
     "output_type": "execute_result"
    }
   ],
   "source": [
    "#  Solution\n",
    "# This cell must be run before the next cell\n",
    "# This was my first solution\n",
    "import ipywidgets as widgets\n",
    "\n",
    "color_buttons = widgets.ToggleButtons(\n",
    "    options=['blue', 'red', 'green', 'black'],\n",
    "    description='Color:',\n",
    ")\n",
    "color_buttons"
   ]
  },
  {
   "cell_type": "code",
   "execution_count": 12,
   "id": "e1e69797",
   "metadata": {},
   "outputs": [
    {
     "name": "stdout",
     "output_type": "stream",
     "text": [
      "color =  blue\n"
     ]
    },
    {
     "data": {
      "image/png": "[encoded data removed]",
      "text/plain": [
       "<Figure size 640x480 with 1 Axes>"
      ]
     },
     "metadata": {},
     "output_type": "display_data"
    }
   ],
   "source": [
    "print(\"color = \" , color_buttons.value )\n",
    "\n",
    "import matplotlib.pyplot as plt\n",
    "import numpy as np\n",
    "\n",
    "# make data\n",
    "np.random.seed(1)\n",
    "x = 4 + np.random.normal(0, 1.5, 200)\n",
    "\n",
    "plt.hist(x, bins=8, linewidth=0.5, color=color_buttons.value)\n",
    "plt.show()"
   ]
  },
  {
   "cell_type": "markdown",
   "id": "5d20cd59",
   "metadata": {},
   "source": [
    "A better solution is to use the interact widgets https://ipywidgets.readthedocs.io/en/stable/examples/Using%20Interact.html  "
   ]
  },
  {
   "cell_type": "code",
   "execution_count": 8,
   "id": "67934adb",
   "metadata": {},
   "outputs": [
    {
     "data": {
      "application/vnd.jupyter.widget-view+json": {
       "model_id": "5ab0af9f079947c08c3abd3a539ae312",
       "version_major": 2,
       "version_minor": 0
      },
      "text/plain": [
       "interactive(children=(Dropdown(description='color', options=('blue', 'red', 'green', 'black'), value='blue'), …"
      ]
     },
     "metadata": {},
     "output_type": "display_data"
    }
   ],
   "source": [
    "import matplotlib.pyplot as plt\n",
    "import numpy as np\n",
    "import ipywidgets as widgets\n",
    "\n",
    "def plot_hist(color) :\n",
    "    # make data\n",
    "    np.random.seed(1)\n",
    "    x = 4 + np.random.normal(0, 1.5, 200)\n",
    "\n",
    "    plt.hist(x, bins=8, linewidth=0.5, color=color)\n",
    "    plt.show()\n",
    "\n",
    "    \n",
    "#plot_hist(\"red\")\n",
    "\n",
    "widgets.interact(plot_hist, color=['blue', 'red', 'green', 'black'] );"
   ]
  },
  {
   "cell_type": "markdown",
   "id": "e235b6b9",
   "metadata": {},
   "source": [
    "##  Question 2d\n",
    "* The aim of this question is to create an interactive plot\n",
    "* The questions uses the interact function in pywidgets  https://ipywidgets.readthedocs.io/en/7.6.2/examples/Using%20Interact.html"
   ]
  },
  {
   "cell_type": "code",
   "execution_count": 13,
   "id": "2168a92a",
   "metadata": {},
   "outputs": [],
   "source": [
    "#  create some random points to plot\n",
    "import ipywidgets as widgets\n",
    "\n",
    "import numpy as np\n",
    "from matplotlib import pyplot as plt\n",
    "x = np.random.uniform(0, 5, size=100)\n",
    "ep = np.random.normal(size=100)\n",
    "\n",
    "y = 2*x + ep + 1\n",
    "x_values = np.linspace(0, 5, 1000)"
   ]
  },
  {
   "cell_type": "code",
   "execution_count": 14,
   "id": "be943904",
   "metadata": {},
   "outputs": [
    {
     "data": {
      "image/png": "[encoded data removed]",
      "text/plain": [
       "<Figure size 432x288 with 1 Axes>"
      ]
     },
     "metadata": {
      "needs_background": "light"
     },
     "output_type": "display_data"
    }
   ],
   "source": [
    "\n",
    "\n",
    "def slope_viz(m=1):\n",
    "    \"\"\"\n",
    "    Plot the random data\n",
    "    Plot a straight line y = a = mx\n",
    "    for the intercept a and slope m\n",
    "    \"\"\"\n",
    "    a = 0.5\n",
    "    plt.scatter(x, y)\n",
    "    x0 = 0\n",
    "    x1 = 5\n",
    "    y0 = a\n",
    "    y1 = a + m*x1\n",
    "    \n",
    "    plt.plot([x0,x1], [y0,y1], lw=3, color='black')\n",
    "    \n",
    "    plt.ylim(-1.2, 12.2);# Solution\n",
    "\n",
    "slope_viz(m=1)"
   ]
  },
  {
   "cell_type": "markdown",
   "id": "d3a11e61",
   "metadata": {},
   "source": [
    "The plot can be made interactive using pywidgets"
   ]
  },
  {
   "cell_type": "code",
   "execution_count": 15,
   "id": "9e7a7eef",
   "metadata": {},
   "outputs": [
    {
     "data": {
      "application/vnd.jupyter.widget-view+json": {
       "model_id": "775aeee39495425fa8bdc4eec192761d",
       "version_major": 2,
       "version_minor": 0
      },
      "text/plain": [
       "interactive(children=(FloatSlider(value=1.0, description='m', max=5.0, min=0.2, step=0.2), Output()), _dom_cla…"
      ]
     },
     "metadata": {},
     "output_type": "display_data"
    }
   ],
   "source": [
    "widgets.interact(slope_viz, m=(0.2, 5, 0.2));"
   ]
  },
  {
   "cell_type": "markdown",
   "id": "942a1fd1",
   "metadata": {},
   "source": [
    "Modify the code so that the intercept parameter a can be varied.  The final plot should look like the plot below\n",
    "\n",
    "\n",
    "![2lide](https://github.com/cmcneile/COMP5000-2023-lab/blob/main/2slider.png?raw=true)"
   ]
  },
  {
   "cell_type": "code",
   "execution_count": 9,
   "id": "e947a3b7",
   "metadata": {},
   "outputs": [],
   "source": [
    "# Solution\n",
    "\n",
    "def slope_viz(m=1,a=0):\n",
    "    \"\"\"\n",
    "    Plot the random data\n",
    "    Plot a straigt line y = a = mx\n",
    "    for the intercept a and slope m\n",
    "    \"\"\"\n",
    "    plt.scatter(x, y)\n",
    "    x0 = 0\n",
    "    x1 = 5\n",
    "    y0 = a\n",
    "    y1 = a + m*x1\n",
    "    \n",
    "    plt.plot([x0,x1], [y0,y1], lw=3, color='black')\n",
    "    \n",
    "    plt.ylim(-1.2, 12.2);"
   ]
  },
  {
   "cell_type": "code",
   "execution_count": 10,
   "id": "028211fc",
   "metadata": {},
   "outputs": [
    {
     "ename": "NameError",
     "evalue": "name 'y' is not defined",
     "output_type": "error",
     "traceback": [
      "\u001b[0;31m---------------------------------------------------------------------------\u001b[0m",
      "\u001b[0;31mNameError\u001b[0m                                 Traceback (most recent call last)",
      "Cell \u001b[0;32mIn[10], line 1\u001b[0m\n\u001b[0;32m----> 1\u001b[0m \u001b[43mslope_viz\u001b[49m\u001b[43m(\u001b[49m\u001b[38;5;241;43m2\u001b[39;49m\u001b[43m,\u001b[49m\u001b[38;5;241;43m1\u001b[39;49m\u001b[43m)\u001b[49m\n",
      "Cell \u001b[0;32mIn[9], line 9\u001b[0m, in \u001b[0;36mslope_viz\u001b[0;34m(m, a)\u001b[0m\n\u001b[1;32m      3\u001b[0m \u001b[38;5;28;01mdef\u001b[39;00m \u001b[38;5;21mslope_viz\u001b[39m(m\u001b[38;5;241m=\u001b[39m\u001b[38;5;241m1\u001b[39m,a\u001b[38;5;241m=\u001b[39m\u001b[38;5;241m0\u001b[39m):\n\u001b[1;32m      4\u001b[0m \u001b[38;5;250m    \u001b[39m\u001b[38;5;124;03m\"\"\"\u001b[39;00m\n\u001b[1;32m      5\u001b[0m \u001b[38;5;124;03m    Plot the random data\u001b[39;00m\n\u001b[1;32m      6\u001b[0m \u001b[38;5;124;03m    Plot a straigt line y = a = mx\u001b[39;00m\n\u001b[1;32m      7\u001b[0m \u001b[38;5;124;03m    for the intercept a and slope m\u001b[39;00m\n\u001b[1;32m      8\u001b[0m \u001b[38;5;124;03m    \"\"\"\u001b[39;00m\n\u001b[0;32m----> 9\u001b[0m     plt\u001b[38;5;241m.\u001b[39mscatter(x, \u001b[43my\u001b[49m)\n\u001b[1;32m     10\u001b[0m     x0 \u001b[38;5;241m=\u001b[39m \u001b[38;5;241m0\u001b[39m\n\u001b[1;32m     11\u001b[0m     x1 \u001b[38;5;241m=\u001b[39m \u001b[38;5;241m5\u001b[39m\n",
      "\u001b[0;31mNameError\u001b[0m: name 'y' is not defined"
     ]
    }
   ],
   "source": [
    "slope_viz(2,1)"
   ]
  },
  {
   "cell_type": "code",
   "execution_count": 18,
   "id": "ba46d3fa",
   "metadata": {},
   "outputs": [
    {
     "data": {
      "application/vnd.jupyter.widget-view+json": {
       "model_id": "0c47ea2fca54491a842d611e895f5d3e",
       "version_major": 2,
       "version_minor": 0
      },
      "text/plain": [
       "interactive(children=(FloatSlider(value=1.0, description='m', max=5.0, min=0.2, step=0.2), FloatSlider(value=0…"
      ]
     },
     "metadata": {},
     "output_type": "display_data"
    }
   ],
   "source": [
    "widgets.interact(slope_viz, m=(0.2, 5, 0.2), a = (-1,1, 0.2));"
   ]
  },
  {
   "cell_type": "markdown",
   "id": "338d91bc",
   "metadata": {},
   "source": [
    "##  Question 3   Using  a GUI to create a plot"
   ]
  },
  {
   "cell_type": "markdown",
   "id": "d454eb8f",
   "metadata": {},
   "source": [
    "\n",
    "The aim of question is to create a python script with\n",
    "a radio button. When the radio button is pressed, a bar plot is plotted. See figure\n",
    "\n",
    "![GUIbarplot](https://github.com/cmcneile/COMP5000-2023-lab/blob/main/gui_barplot.png?raw=true)\n",
    "\n",
    "\n",
    "* The idea is too combine the plotting code and GUI Checkbutton code below"
   ]
  },
  {
   "cell_type": "code",
   "execution_count": 19,
   "id": "b048902e",
   "metadata": {},
   "outputs": [
    {
     "data": {
      "image/png": "[encoded data removed]",
      "text/plain": [
       "<Figure size 432x288 with 1 Axes>"
      ]
     },
     "metadata": {
      "needs_background": "light"
     },
     "output_type": "display_data"
    }
   ],
   "source": [
    "# plotting script\n",
    "import matplotlib.pyplot as plt\n",
    "x_pos  = [ 0 , 1 , 2 , 3 , 4] \n",
    "bars   = [ \"Dent\" , \"Scratch\" , \"Specifications\" , \"Other\"  , \"Smudge\" ] \n",
    "frequency = [ 11, 7 , 11 , 7 , 4 ] \n",
    "plt.bar(x_pos, frequency)\n",
    "plt.xticks(x_pos, bars)\n",
    "plt.ylabel('Frequency')\n",
    "\n",
    "plt.show()"
   ]
  },
  {
   "cell_type": "code",
   "execution_count": 20,
   "id": "694fe93c",
   "metadata": {},
   "outputs": [
    {
     "name": "stdout",
     "output_type": "stream",
     "text": [
      "Oh. I'm clicked True\n"
     ]
    }
   ],
   "source": [
    "# GUI Checkbutton\n",
    "\n",
    "# Modify this script to solve the problem\n",
    "\n",
    "import matplotlib\n",
    "matplotlib.use(\"TkAgg\")\n",
    "from matplotlib import pyplot as plt\n",
    "\n",
    "import tkinter as tk\n",
    "from _cffi_backend import callback\n",
    " \n",
    "def callBackFunc():\n",
    "     print(\"Oh. I'm clicked\" , chkValue.get())\n",
    "   \n",
    "root = tk.Tk() \n",
    "root.geometry('250x200')\n",
    "\n",
    "chkValue = tk.BooleanVar() \n",
    "chkValue.set(False)\n",
    " \n",
    "chkExample = tk.Checkbutton(root, text='Barplot', \n",
    "                            var=chkValue, command=callBackFunc) \n",
    "chkExample.grid(column=0, row=0)\n",
    "\n",
    "root.mainloop()\n"
   ]
  },
  {
   "cell_type": "code",
   "execution_count": 21,
   "id": "11151959",
   "metadata": {},
   "outputs": [],
   "source": [
    "# Solution"
   ]
  },
  {
   "cell_type": "code",
   "execution_count": 22,
   "id": "11a59140",
   "metadata": {},
   "outputs": [],
   "source": [
    "\n",
    "import matplotlib.pyplot as plt\n",
    "x_pos  = [ 0 , 1 , 2 , 3 , 4] \n",
    "bars   = [ \"Dent\" , \"Scratch\" , \"Specifications\" , \"Other\"  , \"Smudge\" ] \n",
    "frequency = [ 11, 7 , 11 , 7 , 4 ]\n",
    "\n",
    "\n",
    "import matplotlib\n",
    "matplotlib.use(\"TkAgg\")\n",
    "from matplotlib import pyplot as plt\n",
    "\n",
    "import tkinter as tk\n",
    "from _cffi_backend import callback\n",
    " \n",
    "def callBackFunc():\n",
    "    plt.bar(x_pos, frequency)\n",
    "    plt.xticks(x_pos, bars)\n",
    "    plt.ylabel('Frequency')\n",
    "\n",
    "plt.show()\n",
    "   \n",
    "root = tk.Tk() \n",
    "root.geometry('250x200')\n",
    "\n",
    "chkValue = tk.BooleanVar() \n",
    "chkValue.set(False)\n",
    " \n",
    "chkExample = tk.Checkbutton(root, text='Barplot', \n",
    "                            var=chkValue, command=callBackFunc) \n",
    "chkExample.grid(column=0, row=0)\n",
    "\n",
    "root.mainloop()\n"
   ]
  },
  {
   "cell_type": "code",
   "execution_count": null,
   "id": "af42de17",
   "metadata": {},
   "outputs": [],
   "source": []
  },
  {
   "cell_type": "code",
   "execution_count": null,
   "id": "ea1b9ef3",
   "metadata": {},
   "outputs": [],
   "source": []
  }
 ],
 "metadata": {
  "kernelspec": {
   "display_name": "Python 3 (ipykernel)",
   "language": "python",
   "name": "python3"
  },
  "language_info": {
   "codemirror_mode": {
    "name": "ipython",
    "version": 3
   },
   "file_extension": ".py",
   "mimetype": "text/x-python",
   "name": "python",
   "nbconvert_exporter": "python",
   "pygments_lexer": "ipython3",
   "version": "3.9.17"
  }
 },
 "nbformat": 4,
 "nbformat_minor": 5
}

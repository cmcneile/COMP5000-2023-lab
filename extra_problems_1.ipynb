{
 "cells": [
  {
   "cell_type": "markdown",
   "id": "6480d289",
   "metadata": {},
   "source": [
    "#  Additional problems"
   ]
  },
  {
   "cell_type": "markdown",
   "id": "e3c510a2",
   "metadata": {},
   "source": [
    "## Problem 1\n",
    "\n",
    "* In the list of numbers 45, 65, 56, 23, 48, 66  find the numbers over 60\n",
    "* The application may be to find out the ages of people above retirement age.\n",
    "\n",
    "We start the problem by putting the ages in a list data structure"
   ]
  },
  {
   "cell_type": "code",
   "execution_count": 9,
   "id": "41af571d",
   "metadata": {},
   "outputs": [],
   "source": [
    "ages = [45, 65, 56, 23, 48, 66 ] \n",
    "\n"
   ]
  },
  {
   "cell_type": "markdown",
   "id": "c37b6144",
   "metadata": {},
   "source": [
    "### Problem start \n",
    "Start by finding the inspecting the numbers. By looking at the numbers, we see that **65** and **66** are the answers. \n",
    "\n",
    "* loop through a list  See  https://www.w3schools.com/python/python_lists_loop.asp\n",
    "* Compare numbers  See  https://www.w3schools.com/python/python_conditions.aspome \n",
    "\n",
    "Some sample code"
   ]
  },
  {
   "cell_type": "code",
   "execution_count": 10,
   "id": "532f91be",
   "metadata": {},
   "outputs": [
    {
     "name": "stdout",
     "output_type": "stream",
     "text": [
      "45\n",
      "65\n",
      "56\n",
      "23\n",
      "48\n",
      "66\n"
     ]
    }
   ],
   "source": [
    "# From https://www.w3schools.com/python/python_lists_loop.asp\n",
    "for a in ages :\n",
    "    print(a)\n"
   ]
  },
  {
   "cell_type": "code",
   "execution_count": 11,
   "id": "5926c29b",
   "metadata": {},
   "outputs": [
    {
     "name": "stdout",
     "output_type": "stream",
     "text": [
      "a and b are equal\n"
     ]
    }
   ],
   "source": [
    "# From https://www.w3schools.com/python/python_conditions.asp\n",
    "a = 33\n",
    "b = 33\n",
    "if b > a:\n",
    "  print(\"b is greater than a\")\n",
    "elif a == b:\n",
    "  print(\"a and b are equal\")"
   ]
  },
  {
   "cell_type": "markdown",
   "id": "0e077baa",
   "metadata": {},
   "source": [
    "Now combine the two pieces of code"
   ]
  },
  {
   "cell_type": "code",
   "execution_count": 12,
   "id": "2c1d1923",
   "metadata": {},
   "outputs": [
    {
     "name": "stdout",
     "output_type": "stream",
     "text": [
      "65\n",
      "66\n"
     ]
    }
   ],
   "source": [
    "for a in ages :\n",
    "    if a > 60 :\n",
    "       print(a)\n"
   ]
  },
  {
   "cell_type": "markdown",
   "id": "bee98bfe",
   "metadata": {},
   "source": [
    "## Question for YOU\n",
    "* Modify the code so that the number of ages is counted.\n",
    "* In the example 45, 65, 56, 23, 48, 66 the number should be **2**\n",
    "* See  https://www.w3schools.com/python/python_operators.asp"
   ]
  },
  {
   "cell_type": "code",
   "execution_count": 13,
   "id": "23e169ee",
   "metadata": {},
   "outputs": [
    {
     "name": "stdout",
     "output_type": "stream",
     "text": [
      "65\n",
      "66\n",
      "Number of ages above 60  0\n"
     ]
    }
   ],
   "source": [
    "\n",
    "total = 0 \n",
    "for a in ages :\n",
    "    if a > 60 :\n",
    "#       add some code here to count the numbers of ages greater than 60\n",
    "        print(a)\n",
    "\n",
    "print(\"Number of ages above 60 \" , total)\n"
   ]
  },
  {
   "cell_type": "markdown",
   "id": "fe9745ba",
   "metadata": {},
   "source": [
    "## Question 2"
   ]
  },
  {
   "cell_type": "markdown",
   "id": "b2eface2",
   "metadata": {},
   "source": [
    "* Write a function to compute the discounted price from the original price and the percentage discount.\n",
    "* For example the original price of a TV is 1500 pounds and if there is a 50% discount, then the price is 1500 - 50/100* 1500 = 750\n",
    "* See the example of a function https://www.w3schools.com/python/python_functions.asp\n",
    "\n",
    "Here is an example code that prints out the price and percentage "
   ]
  },
  {
   "cell_type": "code",
   "execution_count": 14,
   "id": "8b8d0dd8",
   "metadata": {},
   "outputs": [
    {
     "name": "stdout",
     "output_type": "stream",
     "text": [
      "price  1500\n",
      " discount_percentage =  50  discount_percentage\n",
      "Reduced cost  1500\n"
     ]
    }
   ],
   "source": [
    "# some example code \n",
    "def compute_reduced_cost(price, discount_percentage) :\n",
    "    print(\"price \" , price)\n",
    "    print(\" discount_percentage = \",  discount_percentage, \" discount_percentage\")\n",
    "    return price\n",
    "\n",
    "ans = compute_reduced_cost(1500, 50)\n",
    "print(\"Reduced cost \" , ans)"
   ]
  },
  {
   "cell_type": "markdown",
   "id": "3db3710e",
   "metadata": {},
   "source": [
    "## Question for YOU\n",
    "modify the code to compute the 50% discount "
   ]
  },
  {
   "cell_type": "code",
   "execution_count": 15,
   "id": "3f238aa9",
   "metadata": {},
   "outputs": [
    {
     "name": "stdout",
     "output_type": "stream",
     "text": [
      "price  1500\n",
      " discount_percentage =  50  discount_percentage\n",
      "Reduced cost  1500\n"
     ]
    }
   ],
   "source": [
    "## DEVELOP YOUR SOLUTION HERE\n",
    "## Modify the code below\n",
    "\n",
    "def compute_reduced_cost(price, discount_percentage) :\n",
    "    print(\"price \" , price)\n",
    "    print(\" discount_percentage = \",  discount_percentage, \" discount_percentage\")\n",
    "    return price\n",
    "\n",
    "ans = compute_reduced_cost(1500, 50)\n",
    "print(\"Reduced cost \" , ans)\n",
    "\n"
   ]
  },
  {
   "cell_type": "markdown",
   "id": "1b4520de",
   "metadata": {},
   "source": [
    "## Question 3 \n",
    "\n",
    "In this question we look at dealing with errors.\n",
    "\n",
    "* Syntax errors. Python requires very precise use of code.\n",
    "* For example, the definition of a function requires a **\"** at the end of the line\n",
    "* Code inside a **for** , **if** or **function** requires the code to be at the same indentation level\n",
    "\n",
    "See the buggy example below"
   ]
  },
  {
   "cell_type": "code",
   "execution_count": 16,
   "id": "86797740",
   "metadata": {},
   "outputs": [
    {
     "ename": "IndentationError",
     "evalue": "expected an indented block (2921700905.py, line 3)",
     "output_type": "error",
     "traceback": [
      "\u001b[0;36m  Cell \u001b[0;32mIn[16], line 3\u001b[0;36m\u001b[0m\n\u001b[0;31m    if x > 60\u001b[0m\n\u001b[0m    ^\u001b[0m\n\u001b[0;31mIndentationError\u001b[0m\u001b[0;31m:\u001b[0m expected an indented block\n"
     ]
    }
   ],
   "source": [
    "ages = [45, 65, 56, 23, 48, 66 ]\n",
    "for x in ages:\n",
    "if x > 60 \n",
    "    print(x)"
   ]
  },
  {
   "cell_type": "markdown",
   "id": "907b47a5",
   "metadata": {},
   "source": [
    "The problems with the code are:\n",
    "* missing colon at the end of the for loop\n",
    "* the print and if statement need to be indented\n",
    "\n",
    "Typically I fix one error at a time"
   ]
  },
  {
   "cell_type": "code",
   "execution_count": 17,
   "id": "4059afa5",
   "metadata": {},
   "outputs": [
    {
     "name": "stdout",
     "output_type": "stream",
     "text": [
      "65\n",
      "66\n"
     ]
    }
   ],
   "source": [
    "ages = [45, 65, 56, 23, 48, 66 ]\n",
    "for x in ages:\n",
    "    if x > 60 :\n",
    "        print(x)"
   ]
  },
  {
   "cell_type": "markdown",
   "id": "d563a288",
   "metadata": {},
   "source": [
    "###\n",
    "The example code computes the mean of numbers above 60.\n",
    "* The code below has syntax errors\n",
    "* Fix the errors so that the code works. \n",
    "* You need to make sure the indentation of the python is correct"
   ]
  },
  {
   "cell_type": "code",
   "execution_count": 18,
   "id": "112ab1c5",
   "metadata": {},
   "outputs": [
    {
     "ename": "IndentationError",
     "evalue": "expected an indented block (3824191658.py, line 4)",
     "output_type": "error",
     "traceback": [
      "\u001b[0;36m  Cell \u001b[0;32mIn[18], line 4\u001b[0;36m\u001b[0m\n\u001b[0;31m    total = 0\u001b[0m\n\u001b[0m    ^\u001b[0m\n\u001b[0;31mIndentationError\u001b[0m\u001b[0;31m:\u001b[0m expected an indented block\n"
     ]
    }
   ],
   "source": [
    "ages = [45, 65, 56, 23, 48, 66 ]\n",
    "\n",
    "def mean_of_ages_bigger_65(xx):\n",
    "total = 0 \n",
    "    n = 0 \n",
    "    for x in xx :\n",
    "        if x > 60 \n",
    "        n = n + 1\n",
    "        total += x\n",
    "total /= n\n",
    "    print(\"Mean of ages > 60 = \" , total)\n",
    "    \n",
    "mean_of_ages_bigger_65(ages)"
   ]
  },
  {
   "cell_type": "markdown",
   "id": "24438d88",
   "metadata": {},
   "source": [
    "## The corrected code is below"
   ]
  },
  {
   "cell_type": "code",
   "execution_count": 19,
   "id": "0a9fc207",
   "metadata": {},
   "outputs": [
    {
     "name": "stdout",
     "output_type": "stream",
     "text": [
      "Mean of ages > 60 =  65.5\n"
     ]
    }
   ],
   "source": [
    "ages = [45, 65, 56, 23, 48, 66 ]\n",
    "\n",
    "def mean_of_ages_bigger_65(xx):\n",
    "    total = 0 \n",
    "    n = 0 \n",
    "    for x in xx :\n",
    "        if x > 60 :\n",
    "            n = n + 1\n",
    "            total += x\n",
    "    total /= n\n",
    "    print(\"Mean of ages > 60 = \" , total)\n",
    "    \n",
    "mean_of_ages_bigger_65(ages)"
   ]
  },
  {
   "cell_type": "markdown",
   "id": "ebe9f1c6",
   "metadata": {},
   "source": [
    "## Question 4 \n",
    "\n",
    "* Create a function that takes a string (will be a person's first and last name) and returns a string with the first and last name swapped.\n",
    "*  See additional help from https://edabit.com/challenge/pKSL3HtApPYAJ72CJ\n",
    "* One possible solution is to use split https://www.w3schools.com/python/ref_string_split.asp\n",
    "\n",
    "name_shuffle(\"Donald Trump\") ➞ \"Trump Donald\"\n",
    "\n",
    "name_shuffle(Donnell\") ➞ \"O'Donnell Rosie\"\n",
    "\n",
    "name_shuffle(\"Seymour Butts\") ➞ \"Butts Seymour\"\n",
    "\n"
   ]
  },
  {
   "cell_type": "code",
   "execution_count": 20,
   "id": "0a57257a",
   "metadata": {},
   "outputs": [
    {
     "name": "stdout",
     "output_type": "stream",
     "text": [
      "Donald Trump\n",
      "Donnell\n",
      "Seymour Butts\n"
     ]
    }
   ],
   "source": [
    "# put your solution here\n",
    "def name_shuffle(xx) :\n",
    "    print(xx)\n",
    "\n",
    "    \n",
    "name_shuffle(\"Donald Trump\")\n",
    "name_shuffle(\"Donnell\")\n",
    "name_shuffle(\"Seymour Butts\")\n",
    "\n",
    "\n"
   ]
  },
  {
   "cell_type": "markdown",
   "id": "201b5a85",
   "metadata": {},
   "source": [
    "## Question 5\n",
    "\n",
    "* Write a function to only return the last 4 numbers of a credit card number\n",
    "* This challenge came from \n",
    "\n",
    "card_hide(\"1234123456785678\") ➞ \"************5678\"\n",
    "\n",
    "card_hide(\"8754456321113213\") ➞ \"************3213\"\n",
    "\n",
    "card_hide(\"35123413355523\") ➞ \"**********5523\"\n",
    "\n",
    "\n"
   ]
  },
  {
   "cell_type": "code",
   "execution_count": 21,
   "id": "4d07b5f1",
   "metadata": {},
   "outputs": [
    {
     "name": "stdout",
     "output_type": "stream",
     "text": [
      "1234123456785678\n",
      "8754456321113213\n",
      "35123413355523\n"
     ]
    }
   ],
   "source": [
    "##  PUT YOUR SOLUTION here\n",
    "\n",
    "def card_hide(x):\n",
    "    y = x\n",
    "    for y_ in y :\n",
    "       print(y_, end=\"\")\n",
    "    print(\"\")\n",
    "    \n",
    "card_hide(\"1234123456785678\")\n",
    "card_hide(\"8754456321113213\")\n",
    "card_hide(\"35123413355523\")\n",
    "\n",
    "    "
   ]
  },
  {
   "cell_type": "markdown",
   "id": "845a540e",
   "metadata": {},
   "source": [
    "A better way to solve this is to use regular expressions"
   ]
  },
  {
   "cell_type": "code",
   "execution_count": null,
   "id": "019bde70",
   "metadata": {},
   "outputs": [],
   "source": []
  }
 ],
 "metadata": {
  "celltoolbar": "Slideshow",
  "kernelspec": {
   "display_name": "Python 3 (ipykernel)",
   "language": "python",
   "name": "python3"
  },
  "language_info": {
   "codemirror_mode": {
    "name": "ipython",
    "version": 3
   },
   "file_extension": ".py",
   "mimetype": "text/x-python",
   "name": "python",
   "nbconvert_exporter": "python",
   "pygments_lexer": "ipython3",
   "version": "3.9.17"
  }
 },
 "nbformat": 4,
 "nbformat_minor": 5
}

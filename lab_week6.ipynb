{
 "cells": [
  {
   "cell_type": "markdown",
   "id": "8c5f9f59",
   "metadata": {},
   "source": [
    "# Computer Lab Exercises week 6"
   ]
  },
  {
   "cell_type": "markdown",
   "id": "b3f4f1ea",
   "metadata": {},
   "source": [
    "* These lab exercises are designed to introduce the use of SQL to extract information from a database.\n",
    "* A screencast on downloading jupyter notebooks from the online store.\n",
    "https://youtu.be/1zY7hIj5tWg\n",
    "* These exercises are **not** part of the assessment of the Module.\n",
    "* I will post the solutions roughly 1 week after this file has been uploaded to the DLE.\n",
    "* Please first watch and work through the linkedin learning video\n",
    "* Please note that pasting python from pdf can sometimes cause problems. For example quotation marks can sometimes be converted incorrectly, so then running python will cause errors.\n",
    "\n",
    "* See https://sites.google.com/view/pythonforstemstudents/home for a collection\n",
    "of links to information on python.\n"
   ]
  },
  {
   "cell_type": "markdown",
   "id": "1651e2f2",
   "metadata": {},
   "source": [
    "## Question 1  Questions about SQL\n",
    "\n",
    "Thare is a list of SQL commands at https://www.w3schools.com/sql/sql_syntax.asp.\n",
    "\n",
    "I also suggest you use  the command line program\n",
    "https://sqlite.org/cli.html, if it is installed, to run\n",
    "some of the SQL commands."
   ]
  },
  {
   "cell_type": "markdown",
   "id": "87b28ff0",
   "metadata": {},
   "source": [
    "##  Question 1 (basic SQL)\n"
   ]
  },
  {
   "cell_type": "markdown",
   "id": "87e2b291",
   "metadata": {},
   "source": [
    "Download the SQLite file from **SimpleFolks for Simple SQL**\n",
    "http://2016.padjo.org/files/data/starterpack/simplefolks.sqlite The file simplefolks.sqlite needs to be in the same directory as this notebook.\n",
    "\n",
    "You can read more about the dataset at http://2016.padjo.org/tutorials/sql-simplefolks-select-from/\n",
    "\n",
    "The above database has the following tables:\n",
    "homes, inmates, people, pets and politicians.\n",
    "The people database has the column names: \n",
    "name, sex and age.\n",
    "\n",
    "Use SQL via python to answer the following questions.\n",
    "\n",
    "\n",
    "* Find all the names in the people table.\n",
    "* Find all the names in the people table, for the people younger than 30 years old.\n",
    "* Find all the names of the men in the people table.\n",
    "* Find the average age of the people in the people table.\n",
    "* Find the table names from the database file.\n"
   ]
  },
  {
   "cell_type": "code",
   "execution_count": null,
   "id": "af2144f8",
   "metadata": {},
   "outputs": [],
   "source": [
    "import sqlite3\n",
    "connection = sqlite3.connect(\"simplefolks.sqlite\")\n",
    "cursor = connection.cursor()\n",
    "\n",
    "# you can change the SQL command\n",
    "cursor.execute(\"SELECT * FROM people\") \n",
    "print(\"List the content of the people table\")\n",
    "result = cursor.fetchall() \n",
    "for r in result:\n",
    "    print(r)\n"
   ]
  },
  {
   "cell_type": "code",
   "execution_count": null,
   "id": "7b5f1eab",
   "metadata": {},
   "outputs": [],
   "source": [
    "# Put your solution here"
   ]
  },
  {
   "cell_type": "markdown",
   "id": "3412349f",
   "metadata": {},
   "source": [
    "##  Question 2: SQL and python\n",
    "\n",
    "\n",
    "We have been using python to run SQL \n",
    "queries from a SQLite database. However,\n",
    "we have used a separate python script for\n",
    "each query. It would be better to ask the\n",
    "user for the SQL query."
   ]
  },
  {
   "cell_type": "code",
   "execution_count": 2,
   "id": "e04873ea",
   "metadata": {},
   "outputs": [
    {
     "name": "stdout",
     "output_type": "stream",
     "text": [
      "Input SQL commandselect * from people\n",
      "Executing  select * from people\n"
     ]
    }
   ],
   "source": [
    "sql_ = input(\"Input SQL command\")\n",
    "print(\"Executing \", sql_)"
   ]
  },
  {
   "cell_type": "markdown",
   "id": "86c28a69",
   "metadata": {},
   "source": [
    "Modify the cell above so the user can input an abrbitary SQL statement \n",
    "on the simplefolks.sqlite database.\n",
    "Also include exception handling\n",
    "to check for errors.\n",
    "\n",
    "\n",
    "\n",
    "Please read about SQL injection attacks at\n",
    "https://www.tutlane.com/tutorial/sqlite/sqlite-injection-attacks.\n",
    "This is just for information."
   ]
  },
  {
   "cell_type": "code",
   "execution_count": null,
   "id": "aec1718c",
   "metadata": {},
   "outputs": [],
   "source": [
    "# put your solution here"
   ]
  },
  {
   "cell_type": "markdown",
   "id": "d7d088cf",
   "metadata": {},
   "source": [
    "##  Question 3, plotting the data from a database\n",
    "\n",
    "Use SQL to extract the ages of the Males and Females seperately. Plot the ages of the males and females in the same histogram. The plot should look like the figure below.\n",
    "\n",
    "![hist_male_female](https://github.com/cmcneile/COMP5000-2022-labs/blob/main/hist_MF.png?raw=true)\n"
   ]
  },
  {
   "cell_type": "code",
   "execution_count": 1,
   "id": "1541d422",
   "metadata": {},
   "outputs": [],
   "source": [
    "# put your oolution here"
   ]
  },
  {
   "cell_type": "code",
   "execution_count": null,
   "id": "1d38902d",
   "metadata": {},
   "outputs": [],
   "source": []
  }
 ],
 "metadata": {
  "kernelspec": {
   "display_name": "Python 3 (ipykernel)",
   "language": "python",
   "name": "python3"
  },
  "language_info": {
   "codemirror_mode": {
    "name": "ipython",
    "version": 3
   },
   "file_extension": ".py",
   "mimetype": "text/x-python",
   "name": "python",
   "nbconvert_exporter": "python",
   "pygments_lexer": "ipython3",
   "version": "3.9.17"
  }
 },
 "nbformat": 4,
 "nbformat_minor": 5
}

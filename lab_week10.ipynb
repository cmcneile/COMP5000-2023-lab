{
 "cells": [
  {
   "cell_type": "markdown",
   "id": "8c5f9f59",
   "metadata": {},
   "source": [
    "# Computer Lab Exercises week 10"
   ]
  },
  {
   "cell_type": "markdown",
   "id": "b3f4f1ea",
   "metadata": {},
   "source": [
    "* These lab exercises are designed to work with SQL. \n",
    "\n",
    "* These exercises are **not** part of the assessment of the Module.\n",
    "* I will post the solutions roughly 1 week after this file has been uploaded to the DLE.\n",
    "* See the podcast https://youtu.be/UzFjRLqGQ7Y for background.\n",
    "* Please note that pasting python from pdf can sometimes cause problems. For example quotation marks can sometimes be converted incorrectly, so then running python will cause errors.\n",
    "\n",
    "* See https://sites.google.com/view/pythonforstemstudents/home for a collection\n",
    "of links to information on python.\n"
   ]
  },
  {
   "cell_type": "markdown",
   "id": "87b28ff0",
   "metadata": {},
   "source": [
    "##  Question 1 :Inserting into a database\n"
   ]
  },
  {
   "cell_type": "markdown",
   "id": "87e2b291",
   "metadata": {},
   "source": [
    "A human resources (HR) department has a simple database to record\n",
    "whether staff have had a flu vaccination. There are 30 staff members,\n",
    "tagged with a staff number. \n",
    "\n",
    "A cell below creates the empty table to record whether the employee has had a flu vaccination. \n",
    "\n",
    "\n",
    "The flujab column records whether the staff member has has flu\n",
    "vaccination, 0 means no vaccination and 1 is a vaccination has been done."
   ]
  },
  {
   "cell_type": "markdown",
   "id": "0e7c3c1a",
   "metadata": {},
   "source": [
    "The staff nurse of the company does the flu vaccination of staff\n",
    "members. The nurse needs an application to record when a staff member\n",
    "has a flu vaccination. \n",
    "* The python script should input the staff number \n",
    "and record in the database that the vaccination has been done.\n",
    "* The SQL command ``UPDATE'' should be used. See\n",
    "https://www.pythoncentral.io/introduction-to-sqlite-in-python/ for some examples of updating a database and the podcast https://youtu.be/2ZthhviQbVQ.\n",
    "* The code should check that the staff number entered is between 0 and 30."
   ]
  },
  {
   "cell_type": "code",
   "execution_count": 1,
   "id": "f9fd5ab4",
   "metadata": {},
   "outputs": [
    {
     "name": "stdout",
     "output_type": "stream",
     "text": [
      "Database created for flujab written to the file  FLUJAB_info.db\n"
     ]
    }
   ],
   "source": [
    "#  Run this cell to create the database\n",
    "# https://www.python-course.eu/sql_python.php\n",
    "#\n",
    "\n",
    "import sqlite3\n",
    "import sys\n",
    "\n",
    "#\n",
    "#  create the database file\n",
    "#\n",
    "file_name = \"FLUJAB_info.db\"\n",
    "connection = sqlite3.connect(file_name)\n",
    "cursor = connection.cursor()\n",
    "\n",
    "cursor.execute(\"DROP TABLE IF EXISTS HR_info\")\n",
    "\n",
    "#  schema for the table\n",
    "sql_command = \"\"\"\n",
    "CREATE TABLE IF NOT EXISTS HR_info ( \n",
    "staff_number INTEGER PRIMARY KEY, \n",
    "flujab INTEGER);\"\"\"\n",
    "\n",
    "cursor.execute(sql_command)\n",
    "\n",
    "#  write the initial empty table \n",
    "nemployers = 30\n",
    "no_jab = 0 \n",
    "for i in range(0, nemployers) :\n",
    "  cursor.execute('''INSERT INTO HR_info (staff_number, flujab)\n",
    "                  VALUES(?,?)''', (str(i),  str(no_jab) ))\n",
    "\n",
    "\n",
    "connection.commit()\n",
    "print(\"Database created for flujab written to the file \" , \"FLUJAB_info.db\")\n",
    "\n",
    "connection.close()"
   ]
  },
  {
   "cell_type": "code",
   "execution_count": 2,
   "id": "c198b786",
   "metadata": {},
   "outputs": [
    {
     "name": "stdout",
     "output_type": "stream",
     "text": [
      "----------------------------------------\n",
      "Record flu jab\n",
      "----------------------------------------\n",
      "Input staff number 4\n",
      "Staff_number flu_jab\n",
      "0 0\n",
      "1 0\n",
      "2 0\n",
      "3 0\n",
      "4 0\n",
      "5 0\n",
      "6 0\n",
      "7 0\n",
      "8 0\n",
      "9 0\n",
      "10 0\n",
      "11 0\n",
      "12 0\n",
      "13 0\n",
      "14 0\n",
      "15 0\n",
      "16 0\n",
      "17 0\n",
      "18 0\n",
      "19 0\n",
      "20 0\n",
      "21 0\n",
      "22 0\n",
      "23 0\n",
      "24 0\n",
      "25 0\n",
      "26 0\n",
      "27 0\n",
      "28 0\n",
      "29 0\n"
     ]
    }
   ],
   "source": [
    "# Put your solution here\n",
    "\n",
    "#  Script to record whether a staff member\n",
    "#  has had a flu jab.\n",
    "#\n",
    "#  The database can be created using the script\n",
    "#  create_flue_database.py \n",
    "#  from https://gist.github.com/cmcneile/72f960cf2fa6a4515ba8348b10adf890\n",
    "\n",
    "import sqlite3\n",
    "import sys\n",
    "\n",
    "nemployers = 30\n",
    "\n",
    "print(\"----------------------------------------\")\n",
    "print(\"Record flu jab\")\n",
    "print(\"----------------------------------------\")\n",
    "\n",
    "staff_number_ = input(\"Input staff number \")\n",
    "staff_number = int(staff_number_)\n",
    "\n",
    "connection = sqlite3.connect(\"FLUJAB_info.db\")\n",
    "cursor = connection.cursor()\n",
    "\n",
    "# test that the insertion works\n",
    "cursor.execute(\"select * from HR_info \")\n",
    "result = cursor.fetchall() \n",
    "print(\"Staff_number flu_jab\")\n",
    "for r in result:\n",
    "    print(r[0], r[1])\n",
    "\n",
    "connection.close()\n"
   ]
  },
  {
   "cell_type": "markdown",
   "id": "f2b6efa2",
   "metadata": {},
   "source": [
    "# Question 2: Deleting and modifing a table in a database"
   ]
  },
  {
   "cell_type": "markdown",
   "id": "17dd7f98",
   "metadata": {},
   "source": [
    "In this question we will continue to work with the database in the file \n",
    "FLUJAB_info.db\n",
    "created by the call in question 1.\n",
    "\n",
    "The Human Resources (HR) department wants to update the database file. The staff members\n",
    "with staff numbers below 5 have left the company, so they need to be\n",
    "deleted from the table in the database. The HR department wants to add another\n",
    "column to record whether the employee has has a covid jab.\n",
    "\n",
    "* **(a)** Delete the rows with staff numbers less than 5 from the table.\n",
    "* **(b)** Add a column called ``covid_jab'' to the HR_info table. You do not need fill the column,\n",
    "\n"
   ]
  },
  {
   "cell_type": "code",
   "execution_count": null,
   "id": "320463fc",
   "metadata": {},
   "outputs": [],
   "source": [
    "#  put your solution here\n",
    "\n",
    "import sqlite3\n",
    "import sys\n",
    "\n",
    "nemployers = 30\n",
    "\n",
    "\n",
    "connection = sqlite3.connect(\"FLUJAB_info.db\")\n",
    "cursor = connection.cursor()\n",
    "\n",
    "\n",
    "\n",
    "connection.close()"
   ]
  },
  {
   "cell_type": "markdown",
   "id": "26c8d2a7",
   "metadata": {},
   "source": [
    "## Question 3: Creating a entity-relationship diagram\n",
    "\n",
    "\n",
    "A doctor is an entity with attributes Name and Age. A patient\n",
    "is entity with attributes, NHS number, Doctor, Name, and Age. The NHS\n",
    "number is the primary key for the patient. There is a one to many\n",
    "relationship between the Doctor and Patient.\n",
    "Use the software https://app.diagrams.net/ to draw an \n",
    "entity-relationship diagram for the doctor and patient.\n",
    "\n",
    "See the podcast https://youtu.be/-s2o2H6eQr0 as background.\n",
    "\n",
    "The final picture should look like:\n",
    "\n",
    "\n",
    "![erdiag](https://github.com/cmcneile/COMP5000-2022-labs/blob/main/wk10_Q3_sol.png?raw=true)\n"
   ]
  },
  {
   "cell_type": "markdown",
   "id": "a2157c50",
   "metadata": {},
   "source": [
    "##  Question 4: inheritance in classes\n",
    "\n",
    "A python code is being written to organize the students and supervisors on a MSc program. The starting point is the Person Class.  See the podcast  https://youtu.be/mEZcomn6uAY on inheritance.\n",
    "\n"
   ]
  },
  {
   "cell_type": "code",
   "execution_count": 2,
   "id": "1decd39c",
   "metadata": {},
   "outputs": [],
   "source": [
    "class Person:\n",
    "  def __init__(self, name, lastname):\n",
    "    self.name = name\n",
    "    self.lastname = lastname\n",
    "\n",
    "  def printname(self):\n",
    "    print(self.name, self.lastname)\n",
    "\n",
    "  def info(self) :\n",
    "      print(\"Person\")"
   ]
  },
  {
   "cell_type": "markdown",
   "id": "ec8d2c9a",
   "metadata": {},
   "source": [
    "Define a new class MScStudent that inherits from\n",
    "the Person class and it also stores the student ID.\n",
    "In addition to the constructor, the MScStudent\n",
    "should have the method info(), which prints the name,\n",
    "student ID, and \"MSc student\".\n",
    "\n",
    "Similarly, define a new class MScSupervisor \n",
    "that inherits from\n",
    "the Person class and it also stores the staff ID.\n",
    "In addition to the constructor, the MScSupervisor\n",
    "should have the method info(), which prints the name,\n",
    "staff ID, and \"MSc Supervisor\"."
   ]
  },
  {
   "cell_type": "markdown",
   "id": "7d874c04",
   "metadata": {},
   "source": [
    "The classes should be used as\n",
    "<pre>\n",
    "x = MScStudent(\"John\", \"Smith\" , 1000)\n",
    "x.printname()\n",
    "x.info()\n",
    "\n",
    "print(\"  \")\n",
    "y = MScSupervisor(\"Roger\" , \"Kenway\" , 2035)\n",
    "y.printname()\n",
    "y.info()\n",
    "\n",
    "</pre>\n",
    "\n",
    "The output should look be:\n",
    "\n",
    "<pre>\n",
    "John Smith\n",
    "MSc student\n",
    "John Smith\n",
    "Student ID =  1000\n",
    " \n",
    "Roger Kenway\n",
    "MSc Supervisor\n",
    "Roger Kenway\n",
    "Staff number =  2035\n",
    "\n",
    "</pre>"
   ]
  },
  {
   "cell_type": "markdown",
   "id": "6aa3318d",
   "metadata": {},
   "source": [
    "## Question 5, Unit tests\n"
   ]
  },
  {
   "cell_type": "markdown",
   "id": "e7c28e75",
   "metadata": {},
   "source": [
    "This is an example of using the python testing framework\n",
    "unitest \\url{https://realpython.com/python-testing/}\n",
    "In regression analysis, an equation is found which represents\n",
    "y values in terms of an input variable x and some parameters.\n",
    "There are techniques to find the parameters for a set of x and \n",
    "y numbers. \n",
    "\n",
    "For this problem I am just asking you to write tests for the\n",
    "following models.\n",
    "\n",
    "Constant model, where $y$ is equal to a constant $c$\n",
    "$$\n",
    "y = c\n",
    "$$\n",
    "\n",
    "Linear model, where $y$ depends on $x$ via\n",
    "$$\n",
    "y = mx +c\n",
    "$$\n",
    "and the parameters $m$ and $c$.\n",
    "\n",
    "\n",
    "\n",
    "Quadratic model, where $y$ depends on $x$ via\n",
    "$$\n",
    "y = a_2 x^2 + a_1 x + a_0\n",
    "$$\n",
    "and the parameters $a_2$, $a_1$, and $a_0$.\n",
    "\n",
    "I have coded the linear and constant models in the\n",
    "python script  fit\\_model.py.\n",
    "Add the quadrature fit model to the class fit\\_model \n",
    "and add some suitable tests to the testing framework.\n",
    "Are their enough tests for the linear\\_model method?"
   ]
  },
  {
   "cell_type": "code",
   "execution_count": 2,
   "id": "b4055263",
   "metadata": {},
   "outputs": [
    {
     "name": "stderr",
     "output_type": "stream",
     "text": [
      "..\n",
      "----------------------------------------------------------------------\n",
      "Ran 2 tests in 0.001s\n",
      "\n",
      "OK\n"
     ]
    },
    {
     "data": {
      "text/plain": [
       "<unittest.main.TestProgram at 0x7f3a00dc70d0>"
      ]
     },
     "execution_count": 2,
     "metadata": {},
     "output_type": "execute_result"
    }
   ],
   "source": [
    "import unittest\n",
    "\n",
    "class fit_model :\n",
    "\n",
    "    def __init__(self):\n",
    "       pass\n",
    "\n",
    "    def constant_model(self, x, c ) :\n",
    "        y =  c\n",
    "        return y\n",
    "\n",
    "    def linear_model(self, x, m ,c ) :\n",
    "        y = m*x + c\n",
    "        return y\n",
    "\n",
    "\n",
    "# The testing framework\n",
    "class Test_fit_model_Methods(unittest.TestCase):\n",
    "\n",
    "   def test_a(self) :\n",
    "       model = fit_model()\n",
    "       self.assertEqual(model.linear_model(1,1,1), 2)\n",
    "\n",
    "   def test_b(self) :\n",
    "       model = fit_model()\n",
    "       self.assertEqual(model.constant_model(2, 5.5), 5.5)\n",
    "      \n",
    "\n",
    "##\n",
    "##\n",
    "## \n",
    "\n",
    "unittest.main(argv=[''], exit=False)\n",
    "\n"
   ]
  },
  {
   "cell_type": "code",
   "execution_count": 3,
   "id": "a9742faf",
   "metadata": {},
   "outputs": [],
   "source": [
    "##   put you solution here\n",
    "\n"
   ]
  },
  {
   "cell_type": "code",
   "execution_count": null,
   "id": "323bc85a",
   "metadata": {},
   "outputs": [],
   "source": []
  }
 ],
 "metadata": {
  "kernelspec": {
   "display_name": "Python 3 (ipykernel)",
   "language": "python",
   "name": "python3"
  },
  "language_info": {
   "codemirror_mode": {
    "name": "ipython",
    "version": 3
   },
   "file_extension": ".py",
   "mimetype": "text/x-python",
   "name": "python",
   "nbconvert_exporter": "python",
   "pygments_lexer": "ipython3",
   "version": "3.9.17"
  }
 },
 "nbformat": 4,
 "nbformat_minor": 5
}
